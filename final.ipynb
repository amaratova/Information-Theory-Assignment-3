{
  "nbformat": 4,
  "nbformat_minor": 0,
  "metadata": {
    "colab": {
      "name": "final.ipynb",
      "provenance": [],
      "collapsed_sections": [],
      "history_visible": true
    },
    "kernelspec": {
      "name": "python3",
      "display_name": "Python 3"
    },
    "language_info": {
      "name": "python"
    }
  },
  "cells": [
    {
      "cell_type": "markdown",
      "metadata": {
        "id": "dXVoPWJ0jTnO"
      },
      "source": [
        "## Assignment 3: Huffman Algorithm\n",
        "### Members: Akbota Yelemessova & Akniyet Maratova \n",
        "### Group: BDA-1904\n"
      ]
    },
    {
      "cell_type": "code",
      "metadata": {
        "colab": {
          "base_uri": "https://localhost:8080/"
        },
        "id": "oadutVa8QUl7",
        "outputId": "1de48822-37f3-48a3-d5b8-f1b25cfff6d1"
      },
      "source": [
        "# open and read txt file\n",
        "with open('text.txt', encoding=\"utf8\") as file:\n",
        "    text = file.read()\n",
        "    print('To be encoded text:')\n",
        "print(text)"
      ],
      "execution_count": 70,
      "outputs": [
        {
          "output_type": "stream",
          "text": [
            "To be encoded text:\n",
            "BDA DATA \n",
            "Big BDA\n"
          ],
          "name": "stdout"
        }
      ]
    },
    {
      "cell_type": "code",
      "metadata": {
        "colab": {
          "base_uri": "https://localhost:8080/"
        },
        "id": "5JHByq7ScCsp",
        "outputId": "3f76960b-7e29-4bbd-8e7a-7b81a6cf7cb2"
      },
      "source": [
        "# Part 1 \n",
        "print('Part 1')\n",
        "n = len(text)\n",
        "# create list to store the frequency of each symbol\n",
        "freqs = {}\n",
        "\n",
        "# cycle to count frequencies\n",
        "for i in text:\n",
        "    #every time when we need the symbol it increments\n",
        "    if i in freqs:\n",
        "        freqs[i] += 1\n",
        "    # if no more such symbol meets frequency remains 1\n",
        "    else:\n",
        "        freqs[i] = 1\n",
        "\n",
        "# result shows the symbol and its probability \n",
        "print(\"Symbol   Probability  \")\n",
        "for i in freqs:\n",
        "  # creating notations for space, tab, new line\n",
        "  if i == ' ':\n",
        "    print(f' space - {round((freqs[i] / n),3)}  ')\n",
        "  elif i == '\\t':\n",
        "    print(f' tab -   {round((freqs[i] / n),3)}  ')\n",
        "  elif i == '\\n':\n",
        "    print(f' new line - {round((freqs[i] / n),3)}  ')\n",
        "  else:\n",
        "    print(f' {i}  -    {round((freqs[i] / n),3)}  ')\n",
        "\n",
        "# creating new list to store probabilities\n",
        "probs = {}\n",
        "for i in freqs:\n",
        "    probs[i] = round((freqs[i] / n),3)"
      ],
      "execution_count": 69,
      "outputs": [
        {
          "output_type": "stream",
          "text": [
            "Part 1\n",
            "Symbol   Probability  \n",
            " B  -    0.176  \n",
            " D  -    0.176  \n",
            " A  -    0.235  \n",
            " space - 0.176  \n",
            " T  -    0.059  \n",
            " new line - 0.059  \n",
            " i  -    0.059  \n",
            " g  -    0.059  \n"
          ],
          "name": "stdout"
        }
      ]
    },
    {
      "cell_type": "code",
      "metadata": {
        "id": "2MAwK-gkkYSI"
      },
      "source": [
        "# Creating class for tree node \n",
        "class Tree_Node(object):\n",
        "\n",
        "    def __init__(self, left=None, right=None):\n",
        "        self.left = left\n",
        "        self.right = right\n",
        "\n",
        "    def children(self):\n",
        "        return (self.left, self.right)\n",
        "\n",
        "    def nodes(self):\n",
        "        return (self.left, self.right)\n",
        "\n",
        "    def __str__(self):\n",
        "        return '%s_%s' % (self.left, self.right)\n",
        "\n",
        "\n",
        "# function of huffman codeng algorithm\n",
        "def Huffman_encode(node, left=True, binString=''):\n",
        "    if type(node) is str:\n",
        "        return {node: binString}\n",
        "    (l, r) = node.children()\n",
        "    c = dict()\n",
        "    c.update(Huffman_encode(l, True, binString + '0'))\n",
        "    c.update(Huffman_encode(r, False, binString + '1'))\n",
        "    return c\n",
        "\n"
      ],
      "execution_count": 71,
      "outputs": []
    },
    {
      "cell_type": "code",
      "metadata": {
        "colab": {
          "base_uri": "https://localhost:8080/"
        },
        "id": "b-rGEYzpcDBR",
        "outputId": "d6d4110b-61ad-4a93-d783-6ada65f49550"
      },
      "source": [
        "# Part 2\n",
        "print('Part 2')\n",
        "\n",
        "#sorting probabilities in descending order\n",
        "prob = sorted(probs.items(), key=lambda x: x[1], reverse=True)\n",
        "nodes = prob\n",
        "print(' ')\n",
        "\n",
        "# creating variables to count nodes and steps\n",
        "i = 1\n",
        "step = 1 \n",
        "\n",
        "# loop for creating nodes\n",
        "while len(nodes) > 1:\n",
        "    # (symbol, probability)\n",
        "    (s1, p1) = nodes[-1]\n",
        "    (s2, p2) = nodes[-2]\n",
        "    nodes = nodes[:-2]\n",
        "    node = Tree_Node(s1, s2)\n",
        "    print(f'Step {step}')\n",
        "    print(f'{Huffman_encode(node)} ')\n",
        "\n",
        "    print(f' Node {i}:  {s1} - sum({p1}) ')\n",
        "    i=i+1\n",
        "    print(f' Node {i}:  {s2} - sum({p2}) ')\n",
        "    i=i+1\n",
        "    nodes.append((node, p1 + p2))\n",
        "\n",
        "    # sorting nodes in desending order\n",
        "    nodes = sorted(nodes, key=lambda x: x[1], reverse=True)\n",
        "    step = step+1\n",
        "    print(' ')"
      ],
      "execution_count": 72,
      "outputs": [
        {
          "output_type": "stream",
          "text": [
            "Part 2\n",
            " \n",
            "Step 1\n",
            "{'g': '0', 'i': '1'} \n",
            " Node 1:  g - sum(0.059) \n",
            " Node 2:  i - sum(0.059) \n",
            " \n",
            "Step 2\n",
            "{'\\n': '0', 'T': '1'} \n",
            " Node 3:  \n",
            " - sum(0.059) \n",
            " Node 4:  T - sum(0.059) \n",
            " \n",
            "Step 3\n",
            "{'\\n': '00', 'T': '01', 'g': '10', 'i': '11'} \n",
            " Node 5:  \n",
            "_T - sum(0.118) \n",
            " Node 6:  g_i - sum(0.118) \n",
            " \n",
            "Step 4\n",
            "{' ': '0', 'D': '1'} \n",
            " Node 7:    - sum(0.176) \n",
            " Node 8:  D - sum(0.176) \n",
            " \n",
            "Step 5\n",
            "{'B': '0', 'A': '1'} \n",
            " Node 9:  B - sum(0.176) \n",
            " Node 10:  A - sum(0.235) \n",
            " \n",
            "Step 6\n",
            "{'\\n': '000', 'T': '001', 'g': '010', 'i': '011', ' ': '10', 'D': '11'} \n",
            " Node 11:  \n",
            "_T_g_i - sum(0.236) \n",
            " Node 12:   _D - sum(0.352) \n",
            " \n",
            "Step 7\n",
            "{'B': '00', 'A': '01', '\\n': '1000', 'T': '1001', 'g': '1010', 'i': '1011', ' ': '110', 'D': '111'} \n",
            " Node 13:  B_A - sum(0.411) \n",
            " Node 14:  \n",
            "_T_g_i_ _D - sum(0.588) \n",
            " \n"
          ],
          "name": "stdout"
        }
      ]
    },
    {
      "cell_type": "code",
      "metadata": {
        "colab": {
          "base_uri": "https://localhost:8080/"
        },
        "id": "gxLdjA4acDMU",
        "outputId": "a0a86b16-b23a-4e5f-c814-105e8d554b8e"
      },
      "source": [
        "# Part 3\n",
        "print('Part 3')\n",
        "\n",
        "huffman = Huffman_encode(nodes[0][0])\n",
        "print(' ' )\n",
        "\n",
        "print('symbol – probability - codeword: ')\n",
        "for (i, frequency) in prob:\n",
        "  if i == ' ':\n",
        "    print(f'space -    {probs[i]}     - {huffman[i]}  ')\n",
        "  elif i == '\\t':\n",
        "    print(f'tab   -    {probs[i]}    - {huffman[i]}  ')\n",
        "  elif i == '\\n':\n",
        "    print(f'new line - {probs[i]}     - {huffman[i]} ')\n",
        "  else:\n",
        "    print(f' {i}   -     {probs[i]}     - {huffman[i]}')"
      ],
      "execution_count": 73,
      "outputs": [
        {
          "output_type": "stream",
          "text": [
            "Part 3\n",
            " \n",
            "symbol – probability - codeword: \n",
            " A   -     0.235     - 01\n",
            " B   -     0.176     - 00\n",
            " D   -     0.176     - 111\n",
            "space -    0.176     - 110  \n",
            " T   -     0.059     - 1001\n",
            "new line - 0.059     - 1000 \n",
            " i   -     0.059     - 1011\n",
            " g   -     0.059     - 1010\n"
          ],
          "name": "stdout"
        }
      ]
    },
    {
      "cell_type": "code",
      "metadata": {
        "colab": {
          "base_uri": "https://localhost:8080/"
        },
        "id": "nRdo8-3zceHY",
        "outputId": "493778e0-b591-4ef3-c11f-bd7cdcf710d4"
      },
      "source": [
        "# Part 4\n",
        "# reopen and read txt file\n",
        "with open('text.txt', encoding=\"utf8\") as file:\n",
        "    text1 = file.read()\n",
        "    print('To be encoded text:')\n",
        "print(text1)\n",
        "\n",
        "codes = {}\n",
        "for (i, frequency) in prob:\n",
        "  codes[i] = huffman[i]\n",
        "\n",
        "# create new file to write codewords\n",
        "f = open(\"compressed.txt\",\"w+\")\n",
        "\n",
        "# loop that compares each symbol in the textwith the symbols in codes list\n",
        "for i in text1:\n",
        "  for j in codes:\n",
        "    if i == j:\n",
        "      # write to the file\n",
        "      f.write(codes[j])\n",
        "\n",
        "# open compressed file \n",
        "with open('compressed.txt', encoding=\"utf8\") as file:\n",
        "    text2 = file.read()\n",
        "    print('Compressed text:')\n",
        "print(text2)\n",
        "  "
      ],
      "execution_count": 74,
      "outputs": [
        {
          "output_type": "stream",
          "text": [
            "To be encoded text:\n",
            "BDA DATA \n",
            "Big BDA\n",
            "Compressed text:\n",
            "\n"
          ],
          "name": "stdout"
        }
      ]
    },
    {
      "cell_type": "code",
      "metadata": {
        "colab": {
          "base_uri": "https://localhost:8080/"
        },
        "id": "Pls49s-EjNB1",
        "outputId": "36c55cc8-77f2-4dc9-8a7e-6dd9a7942f78"
      },
      "source": [
        "# Part 5\n",
        "\n",
        "# calculating original bits\n",
        "n = len(text1)\n",
        "org_bit = n*8\n",
        "print(f'Number of bits in the original text: {org_bit} bits')\n",
        "\n",
        "# calculating compressed bits\n",
        "# bits for distinct symbols in codes list\n",
        "dist_smbl = len(codes) * 8\n",
        "\n",
        "# bits of frequencies\n",
        "sum_freqs = 0\n",
        "for i in freqs:\n",
        "  sum_freqs = sum_freqs + freqs[i]\n",
        "# calculating sum of code size\n",
        "code_size = 0\n",
        "for i in freqs:\n",
        "  for j in codes:\n",
        "    if i == j:\n",
        "      code_size = code_size + freqs[i] * len(codes[j])\n",
        "\n",
        "# adding bits of distinct characters, sum of frequencies and total code size\n",
        "comp_bit = dist_smbl + sum_freqs + code_size\n",
        "print(f'Number of bits in the compressed text: {comp_bit}')\n",
        "\n",
        "# calcualting Compression ratio\n",
        "print(f'Compression ratio = {round((org_bit/comp_bit),3)}')\n",
        "\n",
        "# Calculating Average code length with probability\n",
        "avg_cod_len = 0\n",
        "for i in probs:\n",
        "  for j in codes:\n",
        "    if i == j:\n",
        "      avg_cod_len = avg_cod_len + probs[i] * len(codes[j])\n",
        "print(f'Average code length = {round(avg_cod_len,2)} bits/symbol')\n",
        "\n",
        "#Calculating Average code length with frequency\n",
        "#print(f'Average code length = {round((code_size/sum_freqs),2)} bits/symbol')\n"
      ],
      "execution_count": 86,
      "outputs": [
        {
          "output_type": "stream",
          "text": [
            "Number of bits in the original text: 136 bits\n",
            "Number of bits in the compressed text: 129\n",
            "Compression ratio = 1.054\n",
            "Average code length = 2.82 bits/symbol\n"
          ],
          "name": "stdout"
        }
      ]
    }
  ]
}