{
  "nbformat": 4,
  "nbformat_minor": 0,
  "metadata": {
    "colab": {
      "name": "Part 1.ipynb",
      "provenance": [],
      "collapsed_sections": []
    },
    "kernelspec": {
      "name": "python3",
      "display_name": "Python 3"
    },
    "language_info": {
      "name": "python"
    }
  },
  "cells": [
    {
      "cell_type": "code",
      "metadata": {
        "colab": {
          "base_uri": "https://localhost:8080/"
        },
        "id": "-zunY5wGc1RB",
        "outputId": "789b7afc-5813-4cf8-8c0a-842294a0680d"
      },
      "source": [
        "# Pert 1 \n",
        "# open and read txt file\n",
        "with open('textt.txt', 'r') as inp:\n",
        "    text = inp.read()\n",
        "\n",
        "# get number of all symbols\n",
        "n = len(text)\n",
        "\n",
        "# create list to store the frequency of each symbol\n",
        "freqs = {}\n",
        "\n",
        "# cycle to count frequencies\n",
        "for i in text:\n",
        "    #every time when we need the symbol it increments\n",
        "    if i in freqs:\n",
        "        freqs[i] += 1\n",
        "    # if no more such symbol meets frequency remains 1\n",
        "    else:\n",
        "        freqs[i] = 1\n",
        "\n",
        "# result shows the symbol and its probability\n",
        "print(\"Symbol   Probability  \")\n",
        "for i in freqs:\n",
        "  if i == ' ':\n",
        "    print(f' space - {round((freqs[i] / n),3)}  ')\n",
        "  elif i == '\\t':\n",
        "    print(f' tab -   {round((freqs[i] / n),3)}  ')\n",
        "  elif i == '\\n':\n",
        "    print(f' new line - {round((freqs[i] / n),3)}  ')\n",
        "  else:\n",
        "    print(f' {i}  -    {round((freqs[i] / n),3)}  ')"
      ],
      "execution_count": 4,
      "outputs": [
        {
          "output_type": "stream",
          "text": [
            "Symbol   Probability  \n",
            " tab -   0.004  \n",
            " T  -    0.004  \n",
            " h  -    0.012  \n",
            " e  -    0.094  \n",
            " space - 0.155  \n",
            " b  -    0.02  \n",
            " a  -    0.065  \n",
            " s  -    0.065  \n",
            " i  -    0.057  \n",
            " c  -    0.041  \n",
            " d  -    0.041  \n",
            " o  -    0.094  \n",
            " f  -    0.012  \n",
            " m  -    0.024  \n",
            " p  -    0.024  \n",
            " r  -    0.053  \n",
            " n  -    0.057  \n",
            " t  -    0.053  \n",
            " x  -    0.008  \n",
            " l  -    0.024  \n",
            " (  -    0.004  \n",
            " ,  -    0.008  \n",
            " v  -    0.004  \n",
            " )  -    0.004  \n",
            " u  -    0.008  \n",
            " y  -    0.008  \n",
            " .  -    0.012  \n",
            " new line - 0.012  \n",
            " C  -    0.004  \n",
            " k  -    0.004  \n",
            " w  -    0.008  \n",
            " g  -    0.008  \n",
            " I  -    0.004  \n"
          ],
          "name": "stdout"
        }
      ]
    }
  ]
}